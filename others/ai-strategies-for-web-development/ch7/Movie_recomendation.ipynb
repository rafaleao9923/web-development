{
  "nbformat": 4,
  "nbformat_minor": 0,
  "metadata": {
    "colab": {
      "provenance": []
    },
    "kernelspec": {
      "name": "python3",
      "display_name": "Python 3"
    },
    "language_info": {
      "name": "python"
    }
  },
  "cells": [
    {
      "cell_type": "code",
      "execution_count": 3,
      "metadata": {
        "colab": {
          "base_uri": "https://localhost:8080/",
          "height": 0
        },
        "id": "naUjHVyd8hOd",
        "outputId": "24326e28-6efb-4693-e18a-5508aaec3d97"
      },
      "outputs": [
        {
          "output_type": "stream",
          "name": "stdout",
          "text": [
            "Requirement already satisfied: scikit-surprise in /usr/local/lib/python3.10/dist-packages (1.1.4)\n",
            "Requirement already satisfied: joblib>=1.2.0 in /usr/local/lib/python3.10/dist-packages (from scikit-surprise) (1.4.2)\n",
            "Requirement already satisfied: numpy>=1.19.5 in /usr/local/lib/python3.10/dist-packages (from scikit-surprise) (1.25.2)\n",
            "Requirement already satisfied: scipy>=1.6.0 in /usr/local/lib/python3.10/dist-packages (from scikit-surprise) (1.11.4)\n",
            "RMSE: 0.8745\n",
            "MAE:  0.6728\n",
            "RMSE: 0.8745291344925908\n",
            "MAE: 0.67281523909186\n",
            "Recommended movies for 'Toy Story (1995)':\n",
            "['Shawshank Redemption, The (1994)', 'Dr. Strangelove or: How I Learned to Stop Worrying and Love the Bomb (1964)', '12 Angry Men (1957)', 'Cool Hand Luke (1967)', 'Boondock Saints, The (2000)']\n"
          ]
        }
      ],
      "source": [
        "# Install the Surprise library\n",
        "!pip install scikit-surprise\n",
        "\n",
        "import pandas as pd\n",
        "from surprise import Dataset, Reader, SVD\n",
        "from surprise.model_selection import train_test_split\n",
        "from surprise import accuracy\n",
        "import urllib.request\n",
        "import zipfile\n",
        "import os\n",
        "\n",
        "# Download the MovieLens dataset\n",
        "url = 'https://files.grouplens.org/datasets/movielens/ml-latest-small.zip'\n",
        "urllib.request.urlretrieve(url, 'ml-latest-small.zip')\n",
        "\n",
        "# Unzip the downloaded file\n",
        "with zipfile.ZipFile('ml-latest-small.zip', 'r') as zip_ref:\n",
        "    zip_ref.extractall()\n",
        "\n",
        "# Full path to the files\n",
        "movies_file = os.path.join('ml-latest-small', 'movies.csv')\n",
        "ratings_file = os.path.join('ml-latest-small', 'ratings.csv')\n",
        "\n",
        "# Load the data\n",
        "movies = pd.read_csv(movies_file)\n",
        "ratings = pd.read_csv(ratings_file)\n",
        "\n",
        "# Prepare the data for the Surprise library\n",
        "reader = Reader(rating_scale=(0.5, 5.0))\n",
        "data = Dataset.load_from_df(ratings[['userId', 'movieId', 'rating']], reader)\n",
        "\n",
        "# Split the data into training and test sets\n",
        "trainset, testset = train_test_split(data, test_size=0.2)\n",
        "\n",
        "# Train the SVD model\n",
        "algo = SVD()\n",
        "algo.fit(trainset)\n",
        "\n",
        "# Make predictions on the test set\n",
        "predictions = algo.test(testset)\n",
        "\n",
        "# Evaluate the model's performance\n",
        "rmse = accuracy.rmse(predictions)\n",
        "mae = accuracy.mae(predictions)\n",
        "\n",
        "print(f'RMSE: {rmse}')\n",
        "print(f'MAE: {mae}')\n",
        "\n",
        "# Function to recommend movies in real-time using SVD model\n",
        "def get_movie_recommendations(algo, movie_title, movies, ratings, num_recommendations=5):\n",
        "    # Get the movie_id for the given movie title\n",
        "    movie_id = movies[movies['title'] == movie_title]['movieId'].values[0]\n",
        "\n",
        "    # Get all users who rated this movie\n",
        "    users_who_rated_movie = ratings[ratings['movieId'] == movie_id]['userId'].unique()\n",
        "\n",
        "    # Predict ratings for all other movies by these users\n",
        "    other_movie_ids = ratings[ratings['userId'].isin(users_who_rated_movie)]['movieId'].unique()\n",
        "\n",
        "    # Predict ratings for each movie\n",
        "    predicted_ratings = []\n",
        "    for movie in other_movie_ids:\n",
        "        if movie != movie_id:\n",
        "            predicted_ratings.append((movie, algo.predict(uid=0, iid=movie).est))\n",
        "\n",
        "    # Sort by predicted rating\n",
        "    predicted_ratings.sort(key=lambda x: x[1], reverse=True)\n",
        "\n",
        "    # Get top N movie recommendations\n",
        "    top_n_movies = [movie_id for movie_id, rating in predicted_ratings[:num_recommendations]]\n",
        "\n",
        "    # Get movie titles\n",
        "    recommended_movie_titles = movies[movies['movieId'].isin(top_n_movies)]['title'].tolist()\n",
        "\n",
        "    return recommended_movie_titles\n",
        "\n",
        "# Example usage\n",
        "recommended_movies = get_movie_recommendations(algo, 'Toy Story (1995)', movies, ratings)\n",
        "print(\"Recommended movies for 'Toy Story (1995)':\")\n",
        "print(recommended_movies)\n"
      ]
    },
    {
      "cell_type": "code",
      "source": [],
      "metadata": {
        "id": "lgOuVqL4Fb4z"
      },
      "execution_count": null,
      "outputs": []
    }
  ]
}