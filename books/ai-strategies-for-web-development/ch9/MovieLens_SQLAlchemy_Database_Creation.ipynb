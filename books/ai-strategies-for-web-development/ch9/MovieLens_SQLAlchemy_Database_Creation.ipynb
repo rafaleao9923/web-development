{
  "nbformat": 4,
  "nbformat_minor": 0,
  "metadata": {
    "colab": {
      "provenance": []
    },
    "kernelspec": {
      "name": "python3",
      "display_name": "Python 3"
    },
    "language_info": {
      "name": "python"
    }
  },
  "cells": [
    {
      "cell_type": "markdown",
      "metadata": {
        "id": "view-in-github"
      },
      "source": [
        "<a href=\"https://colab.research.google.com/github/andersonfurtado/AI4WEBDEV/blob/main/MovieLens_SQLAlchemy_Database_Creation.ipynb.ipynb\" target=\"_parent\"><img src=\"https://colab.research.google.com/assets/colab-badge.svg\" alt=\"Open In Colab\"/></a>"
      ]
    },
    {
      "cell_type": "code",
      "execution_count": 4,
      "metadata": {
        "id": "jT5wBITg6FfV",
        "colab": {
          "base_uri": "https://localhost:8080/"
        },
        "outputId": "83c9160a-2649-4ef5-dbc4-ddd9e8c07da9"
      },
      "outputs": [
        {
          "output_type": "stream",
          "name": "stdout",
          "text": [
            "Requirement already satisfied: sqlalchemy in /usr/local/lib/python3.10/dist-packages (2.0.31)\n",
            "Requirement already satisfied: pandas in /usr/local/lib/python3.10/dist-packages (2.0.3)\n",
            "Requirement already satisfied: openpyxl in /usr/local/lib/python3.10/dist-packages (3.1.5)\n",
            "Requirement already satisfied: scikit-surprise in /usr/local/lib/python3.10/dist-packages (1.1.4)\n",
            "Requirement already satisfied: typing-extensions>=4.6.0 in /usr/local/lib/python3.10/dist-packages (from sqlalchemy) (4.12.2)\n",
            "Requirement already satisfied: greenlet!=0.4.17 in /usr/local/lib/python3.10/dist-packages (from sqlalchemy) (3.0.3)\n",
            "Requirement already satisfied: python-dateutil>=2.8.2 in /usr/local/lib/python3.10/dist-packages (from pandas) (2.8.2)\n",
            "Requirement already satisfied: pytz>=2020.1 in /usr/local/lib/python3.10/dist-packages (from pandas) (2023.4)\n",
            "Requirement already satisfied: tzdata>=2022.1 in /usr/local/lib/python3.10/dist-packages (from pandas) (2024.1)\n",
            "Requirement already satisfied: numpy>=1.21.0 in /usr/local/lib/python3.10/dist-packages (from pandas) (1.25.2)\n",
            "Requirement already satisfied: et-xmlfile in /usr/local/lib/python3.10/dist-packages (from openpyxl) (1.1.0)\n",
            "Requirement already satisfied: joblib>=1.2.0 in /usr/local/lib/python3.10/dist-packages (from scikit-surprise) (1.4.2)\n",
            "Requirement already satisfied: scipy>=1.6.0 in /usr/local/lib/python3.10/dist-packages (from scikit-surprise) (1.11.4)\n",
            "Requirement already satisfied: six>=1.5 in /usr/local/lib/python3.10/dist-packages (from python-dateutil>=2.8.2->pandas) (1.16.0)\n",
            "['Shawshank Redemption, The (1994)', 'Dr. Strangelove or: How I Learned to Stop Worrying and Love the Bomb (1964)', 'Philadelphia Story, The (1940)', 'Rear Window (1954)', 'Lawrence of Arabia (1962)']\n"
          ]
        }
      ],
      "source": [
        "# Install the necessary libraries\n",
        "!pip install sqlalchemy pandas openpyxl scikit-surprise\n",
        "\n",
        "# Import the libraries\n",
        "import pandas as pd\n",
        "from sqlalchemy import create_engine, Column, Integer, String, Float\n",
        "from sqlalchemy.orm import declarative_base, sessionmaker\n",
        "from surprise import Dataset, Reader, SVD\n",
        "import urllib.request\n",
        "import zipfile\n",
        "import os\n",
        "\n",
        "# Download and unzip the MovieLens dataset\n",
        "url = 'https://files.grouplens.org/datasets/movielens/ml-latest-small.zip'\n",
        "urllib.request.urlretrieve(url, 'ml-latest-small.zip')\n",
        "\n",
        "with zipfile.ZipFile('ml-latest-small.zip', 'r') as zip_ref:\n",
        "    zip_ref.extractall()\n",
        "\n",
        "# Full path to the files\n",
        "movies_file = os.path.join('ml-latest-small', 'movies.csv')\n",
        "ratings_file = os.path.join('ml-latest-small', 'ratings.csv')\n",
        "\n",
        "# Load the data\n",
        "movies = pd.read_csv(movies_file)\n",
        "ratings = pd.read_csv(ratings_file)\n",
        "\n",
        "# Define the SQLAlchemy models\n",
        "Base = declarative_base()\n",
        "\n",
        "class Movie(Base):\n",
        "    __tablename__ = 'movies'\n",
        "    movieId = Column(Integer, primary_key=True)\n",
        "    title = Column(String)\n",
        "    genres = Column(String)\n",
        "\n",
        "class Rating(Base):\n",
        "    __tablename__ = 'ratings'\n",
        "    userId = Column(Integer, primary_key=True)\n",
        "    movieId = Column(Integer, primary_key=True)\n",
        "    rating = Column(Float)\n",
        "    timestamp = Column(Integer, primary_key=True)\n",
        "\n",
        "# Create the SQLite database and tables\n",
        "engine = create_engine('sqlite:///movielens.db')\n",
        "Base.metadata.create_all(engine)\n",
        "\n",
        "# Create a session\n",
        "Session = sessionmaker(bind=engine)\n",
        "session = Session()\n",
        "\n",
        "# Insert data into the movie table\n",
        "movies_data = movies.to_dict(orient='records')\n",
        "existing_movies = {movie.movieId for movie in session.query(Movie.movieId).all()}\n",
        "new_movies = [Movie(**data) for data in movies_data if data['movieId'] not in existing_movies]\n",
        "session.bulk_save_objects(new_movies)\n",
        "\n",
        "# Insert data into the ratings table\n",
        "ratings_data = ratings.to_dict(orient='records')\n",
        "existing_ratings = {(rating.userId, rating.movieId, rating.timestamp) for rating in session.query(Rating.userId, Rating.movieId, Rating.timestamp).all()}\n",
        "new_ratings = [Rating(**data) for data in ratings_data if (data['userId'], data['movieId'], data['timestamp']) not in existing_ratings]\n",
        "session.bulk_save_objects(new_ratings)\n",
        "\n",
        "# Commit session\n",
        "session.commit()\n",
        "\n",
        "# Prepare the data for Surprise library\n",
        "reader = Reader(rating_scale=(0.5, 5.0))\n",
        "data = Dataset.load_from_df(ratings[['userId', 'movieId', 'rating']], reader)\n",
        "\n",
        "# Train the SVD model\n",
        "trainset = data.build_full_trainset()\n",
        "algo = SVD()\n",
        "algo.fit(trainset)\n",
        "\n",
        "# Function to get movie recommendations from the database\n",
        "def get_movie_recommendations_from_db(movie_title, num_recommendations=5):\n",
        "    movie = session.query(Movie).filter_by(title=movie_title).first()\n",
        "    if not movie:\n",
        "        return []\n",
        "\n",
        "    movie_id = movie.movieId\n",
        "    users_who_rated_movie = session.query(Rating.userId).filter_by(movieId=movie_id).distinct().all()\n",
        "    users_who_rated_movie = [u[0] for u in users_who_rated_movie]\n",
        "\n",
        "    other_movie_ids = session.query(Rating.movieId).filter(Rating.userId.in_(users_who_rated_movie)).distinct().all()\n",
        "    other_movie_ids = [m[0] for m in other_movie_ids]\n",
        "\n",
        "    predicted_ratings = []\n",
        "    for movie_id in other_movie_ids:\n",
        "        predicted_rating = algo.predict(uid=0, iid=movie_id).est\n",
        "        predicted_ratings.append((movie_id, predicted_rating))\n",
        "\n",
        "    predicted_ratings.sort(key=lambda x: x[1], reverse=True)\n",
        "    top_n_movies = [movie_id for movie_id, rating in predicted_ratings[:num_recommendations]]\n",
        "    recommended_movies = session.query(Movie.title).filter(Movie.movieId.in_(top_n_movies)).all()\n",
        "    return [m[0] for m in recommended_movies]\n",
        "\n",
        "# Example of use\n",
        "print(get_movie_recommendations_from_db('Toy Story (1995)'))\n"
      ]
    }
  ]
}